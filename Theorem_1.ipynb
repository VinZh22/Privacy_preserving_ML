{
 "cells": [
  {
   "cell_type": "code",
   "execution_count": 3,
   "metadata": {},
   "outputs": [],
   "source": [
    "import math\n",
    "import numpy as np\n",
    "import matplotlib.pyplot as plt\n",
    "import random as rd"
   ]
  },
  {
   "cell_type": "markdown",
   "metadata": {},
   "source": [
    "On veut calculer epsilon barre (le min )"
   ]
  },
  {
   "cell_type": "code",
   "execution_count": null,
   "metadata": {},
   "outputs": [],
   "source": [
    "# Variables\n",
    "\n",
    "# i entre 1 et n -> désigne un agent\n",
    "\n",
    "# delta_i -> entre 0 et 1 (à choisir)\n",
    "\n",
    "# theta(0) au hasard dans R^np : initialisation du modèle\n",
    "# on calcule ensuite chaque étape en utilisant les formules \n",
    "\n",
    "# ti entre 1 et Ti, Ti le nombre d'itérations pour chaque agent\n",
    "\n",
    "#La somme des Ti vaut T, le nombre total d'itérations\n",
    "\n",
    "# Il nous fait les epsilon de chaque étape, pour calculer le epsilon global. \n",
    "# Il s'agit ici de déterminer le epsilon global en fonction du delta global qu'on veut fixer\n",
    "\n",
    "# On a une formule pour produire du bruit eta_i a partir d'une loi de Laplace de paramiètre s_i, \n",
    "# si est lui meme fixé par une relation avec epsilon_i, le paramètre de Lipschitz L_O, et m_i la taille de l'échantillon d'entrainement de l'agent"
   ]
  },
  {
   "cell_type": "code",
   "execution_count": 4,
   "metadata": {},
   "outputs": [],
   "source": [
    "# exemple d'implémentation du calcul du théorème 1 : en utilisant une liste des epsilon_i, et un delta_barre choisi\n",
    "\n",
    "e = math.exp\n",
    "sq = math.sqrt\n",
    "log = math.log\n",
    "\n",
    "def epsilon_barre (delta_barre, epsilon_list):      # delta doit etre plus petit que 1, sinon on a une erreur dnas une racine carré\n",
    "    \n",
    "    s1 = 0\n",
    "    s2 = 0\n",
    "    s3 = 0\n",
    "    \n",
    "    for i in range (len(epsilon_list)):\n",
    "        s1 += epsilon_list[i]\n",
    "        \n",
    "    if delta_barre == 0:\n",
    "        return s1\n",
    "    else :\n",
    "        eps = epsilon_list\n",
    "        s_a = 0\n",
    "        for i in range (len(epsilon_list)):\n",
    "            s_a += eps[i]*(1-2/(e(eps[i])+1))\n",
    "        s_b = 0\n",
    "        for i in range (len(epsilon_list)):\n",
    "            s_b += eps[i]**2\n",
    "            \n",
    "        s2 = s_a + sq( 2*s_b * log( e(1)* sq(s_b) / delta_barre ) )\n",
    "        s3 = s_a + sq( 2*s_b * log(1/delta_barre))\n",
    "        \n",
    "        return min(s1, min(s2, s3))\n",
    "    \n",
    "    "
   ]
  },
  {
   "cell_type": "code",
   "execution_count": 51,
   "metadata": {},
   "outputs": [
    {
     "name": "stdout",
     "output_type": "stream",
     "text": [
      "0.12774956408267807\n"
     ]
    }
   ],
   "source": [
    "print(rd.random()/5)"
   ]
  },
  {
   "cell_type": "code",
   "execution_count": 17,
   "metadata": {},
   "outputs": [],
   "source": [
    "# on prend des epsilon un peu au hasard anyway, pareil pour le nombre d'itérations\n",
    "\n",
    "n = 20\n",
    "epsilon_liste = np.array([rd.random()/5 for i in range (n)])\n"
   ]
  },
  {
   "cell_type": "code",
   "execution_count": 21,
   "metadata": {},
   "outputs": [
    {
     "name": "stdout",
     "output_type": "stream",
     "text": [
      "[0.16724289 0.13136416 0.01985779 0.04133856 0.05667536 0.04828815\n",
      " 0.1997509  0.09161524 0.0079811  0.02032842 0.06726138 0.14729484\n",
      " 0.09131919 0.13980237 0.08849913 0.13774062 0.06655038 0.00317983\n",
      " 0.18859421 0.16129895]\n",
      "0.12403562173839436\n"
     ]
    }
   ],
   "source": [
    "delta = 1\n",
    "print(epsilon_liste)\n",
    "\n",
    "print(epsilon_barre(delta, epsilon_liste))"
   ]
  },
  {
   "cell_type": "code",
   "execution_count": 1,
   "metadata": {},
   "outputs": [],
   "source": [
    "#ok"
   ]
  },
  {
   "cell_type": "code",
   "execution_count": 19,
   "metadata": {},
   "outputs": [
    {
     "data": {
      "image/png": "[encoded data removed]",
      "text/plain": [
       "<Figure size 640x480 with 1 Axes>"
      ]
     },
     "metadata": {},
     "output_type": "display_data"
    }
   ],
   "source": [
    "X = np.linspace(0, 1, 500)\n",
    "\n",
    "liste_resultats = np.array([epsilon_barre(x, epsilon_liste) for x in X])\n",
    "\n",
    "plt.plot(X, liste_resultats)\n",
    "plt.xlabel(\"delta\", fontsize = 12)\n",
    "plt.ylabel(\"epsilon\", fontsize = 12)\n",
    "\n",
    "plt.show()"
   ]
  },
  {
   "cell_type": "markdown",
   "metadata": {},
   "source": [
    "Reste à implémenter l'algo avec des agents et a essayer de faire un truc asynchrone (je pense que c'est le point le plus technique)\n",
    "\n",
    "Aussi générer les données c'est pas évident"
   ]
  }
 ],
 "metadata": {
  "kernelspec": {
   "display_name": "Python 3",
   "language": "python",
   "name": "python3"
  },
  "language_info": {
   "codemirror_mode": {
    "name": "ipython",
    "version": 3
   },
   "file_extension": ".py",
   "mimetype": "text/x-python",
   "name": "python",
   "nbconvert_exporter": "python",
   "pygments_lexer": "ipython3",
   "version": "3.9.6"
  }
 },
 "nbformat": 4,
 "nbformat_minor": 2
}
